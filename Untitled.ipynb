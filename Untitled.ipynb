{
 "cells": [
  {
   "cell_type": "code",
   "execution_count": 6,
   "id": "4046f7ed",
   "metadata": {},
   "outputs": [
    {
     "name": "stdout",
     "output_type": "stream",
     "text": [
      "defaultdict(<class 'list'>, {'ditto': ['transform'], 'snorlax': ['mega-punch', 'pay-day', 'fire-punch', 'ice-punch', 'thunder-punch', 'whirlwind', 'mega-kick', 'headbutt', 'tackle', 'body-slam', 'take-down', 'double-edge', 'bite', 'flamethrower', 'water-gun', 'hydro-pump', 'surf', 'ice-beam', 'blizzard', 'bubble-beam', 'hyper-beam', 'submission', 'counter', 'seismic-toss', 'strength', 'solar-beam', 'thunderbolt', 'thunder', 'earthquake', 'fissure', 'toxic', 'psychic', 'rage', 'mimic', 'screech', 'double-team', 'harden', 'defense-curl', 'reflect', 'bide', 'metronome', 'self-destruct', 'lick', 'fire-blast', 'skull-bash', 'amnesia', 'psywave', 'rest', 'rock-slide', 'substitute', 'snore', 'curse', 'flail', 'protect', 'belly-drum', 'mud-slap', 'zap-cannon', 'icy-wind', 'outrage', 'sandstorm', 'endure', 'charm', 'rollout', 'swagger', 'attract', 'sleep-talk', 'return', 'frustration', 'dynamic-punch', 'encore', 'pursuit', 'hidden-power', 'rain-dance', 'sunny-day', 'crunch', 'psych-up', 'shadow-ball', 'rock-smash', 'whirlpool', 'uproar', 'stockpile', 'swallow', 'facade', 'focus-punch', 'superpower', 'recycle', 'brick-break', 'yawn', 'snatch', 'secret-power', 'hyper-voice', 'rock-tomb', 'block', 'covet', 'shock-wave', 'water-pulse', 'hammer-arm', 'natural-gift', 'fling', 'gastro-acid', 'last-resort', 'seed-bomb', 'focus-blast', 'giga-impact', 'zen-headbutt', 'rock-climb', 'gunk-shot', 'iron-head', 'captivate', 'smack-down', 'heavy-slam', 'after-you', 'round', 'chip-away', 'incinerate', 'retaliate', 'bulldoze', 'work-up', 'wild-charge', 'heat-crash', 'belch', 'confide', 'power-up-punch', 'darkest-lariat', 'high-horsepower', 'stomping-tantrum', 'body-press', 'steel-roller', 'terrain-pulse']})\n"
     ]
    }
   ],
   "source": [
    "import requests\n",
    "import json\n",
    "import pprint\n",
    "\n",
    "\n",
    "import requests\n",
    "from collections import defaultdict\n",
    "\n",
    "data = defaultdict(list)\n",
    "pokemon = ['ditto', 'snorlax']\n",
    "base = 'https://pokeapi.co/api/v2/'\n",
    "for p in pokemon:\n",
    "    d = requests.get(base + f\"pokemon/{p}/\")\n",
    "    for move in d.json()['moves']:\n",
    "        data[p].append(move['move']['name'])\n",
    "print(data)\n"
   ]
  },
  {
   "cell_type": "code",
   "execution_count": 4,
   "id": "a1c95d43",
   "metadata": {},
   "outputs": [
    {
     "ename": "NameError",
     "evalue": "name 'pokeresponse' is not defined",
     "output_type": "error",
     "traceback": [
      "\u001b[1;31m---------------------------------------------------------------------------\u001b[0m",
      "\u001b[1;31mNameError\u001b[0m                                 Traceback (most recent call last)",
      "\u001b[1;32m~\\AppData\\Local\\Temp\\ipykernel_8296\\3956623580.py\u001b[0m in \u001b[0;36m<module>\u001b[1;34m\u001b[0m\n\u001b[0;32m      1\u001b[0m \u001b[1;31m# Decode the response\u001b[0m\u001b[1;33m\u001b[0m\u001b[1;33m\u001b[0m\u001b[1;33m\u001b[0m\u001b[0m\n\u001b[1;32m----> 2\u001b[1;33m \u001b[0mpoke\u001b[0m \u001b[1;33m=\u001b[0m \u001b[0mpokeresponse\u001b[0m\u001b[1;33m.\u001b[0m\u001b[0mjson\u001b[0m\u001b[1;33m(\u001b[0m\u001b[1;33m)\u001b[0m\u001b[1;33m\u001b[0m\u001b[1;33m\u001b[0m\u001b[0m\n\u001b[0m\u001b[0;32m      3\u001b[0m \u001b[0mpprint\u001b[0m\u001b[1;33m.\u001b[0m\u001b[0mpprint\u001b[0m\u001b[1;33m(\u001b[0m\u001b[0mpoke\u001b[0m\u001b[1;33m)\u001b[0m\u001b[1;33m\u001b[0m\u001b[1;33m\u001b[0m\u001b[0m\n\u001b[0;32m      4\u001b[0m \u001b[1;33m\u001b[0m\u001b[0m\n\u001b[0;32m      5\u001b[0m \u001b[0mprint\u001b[0m\u001b[1;33m(\u001b[0m\u001b[1;34m\"\\nGreat Choice you chose:\"\u001b[0m\u001b[1;33m)\u001b[0m\u001b[1;33m\u001b[0m\u001b[1;33m\u001b[0m\u001b[0m\n",
      "\u001b[1;31mNameError\u001b[0m: name 'pokeresponse' is not defined"
     ]
    }
   ],
   "source": []
  },
  {
   "cell_type": "code",
   "execution_count": null,
   "id": "c1b42ff9",
   "metadata": {},
   "outputs": [],
   "source": []
  }
 ],
 "metadata": {
  "kernelspec": {
   "display_name": "PythonData",
   "language": "python",
   "name": "pythondata"
  },
  "language_info": {
   "codemirror_mode": {
    "name": "ipython",
    "version": 3
   },
   "file_extension": ".py",
   "mimetype": "text/x-python",
   "name": "python",
   "nbconvert_exporter": "python",
   "pygments_lexer": "ipython3",
   "version": "3.7.11"
  }
 },
 "nbformat": 4,
 "nbformat_minor": 5
}
